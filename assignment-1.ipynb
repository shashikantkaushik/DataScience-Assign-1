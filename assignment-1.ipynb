{
 "cells": [
  {
   "cell_type": "code",
   "execution_count": null,
   "id": "d5a2ff8b-7740-43e5-8390-765b69cd0458",
   "metadata": {},
   "outputs": [],
   "source": [
    "1.Who develope python programming Language\n",
    "Python is a high-level, interpreted programming language that was first created by Guido van Rossum in the late 1980s.\n",
    "Van Rossum was working at the National Research Institute for Mathematics and Computer Science in the Netherlands at the time,\n",
    "and he named the language after the BBC television show \"Monty Python's Flying Circus\" because \n",
    "he thought the name was fun and memorable. \n",
    "Python was designed to be easy to read and write, and it has a large and active community of users and developers.\n",
    "It is widely used in a variety of fields, including web development, data science, and artificial intelligence."
   ]
  },
  {
   "cell_type": "code",
   "execution_count": null,
   "id": "7781966f-1d24-48b7-b03e-34becec36a6c",
   "metadata": {},
   "outputs": [],
   "source": [
    "2.Which type of Programming does python supports?\n",
    "Python is a multi-paradigm programming language.\n",
    "Object-oriented programming and structured programming are fully supported,\n",
    "and many of their features support functional programming and aspect-oriented programming \n",
    "(including metaprogramming and metaobjects)."
   ]
  },
  {
   "cell_type": "code",
   "execution_count": null,
   "id": "36116168-c182-4a90-a1c6-9fffef5b258e",
   "metadata": {},
   "outputs": [],
   "source": [
    "3.is python case sensitive when dealing with identifiers?\n",
    "Yes, Python is a case-sensitive language, i.e., it treats uppercase and lowercase characters differently.\n",
    "This applies to identifiers too. \n",
    "You must avoid using the same name with different cases while naming identifiers."
   ]
  },
  {
   "cell_type": "code",
   "execution_count": null,
   "id": "142bb473-2a94-4176-a986-be39016103bf",
   "metadata": {},
   "outputs": [],
   "source": [
    "4.What is the correct file extension for Python files?\n",
    ".py"
   ]
  },
  {
   "cell_type": "code",
   "execution_count": null,
   "id": "184add5b-782f-4550-b24e-bb65f453b508",
   "metadata": {},
   "outputs": [],
   "source": [
    "5.Is python compiled or Interpreted?\n",
    "n various books of python programming, it is mentioned that python language is interpreted.\n",
    "But that is half correct the python program is first compiled and then interpreted.\n",
    "The compilation part is hidden from the programmer thus, many programmers believe that it is an interpreted language.\n",
    "The compilation part is done first when we execute our code and this will generate byte code and \n",
    "internally this byte code gets converted by the python virtual machine(p.v.m) \n",
    "according to the underlying platform(machine+operating system)."
   ]
  },
  {
   "cell_type": "code",
   "execution_count": null,
   "id": "d566520f-30a8-46b3-bff9-57919b720c8d",
   "metadata": {},
   "outputs": [],
   "source": [
    "6.Name a few code of blocks used to define in python language?\n",
    "Indentation is used to define a block of code in python.\n",
    "Braces {} are used to define a block of code in most programming languages, \n",
    "like C, C++, and Java. But this indentation makes python unique among all programming languages."
   ]
  },
  {
   "cell_type": "code",
   "execution_count": null,
   "id": "2eec13a7-282e-4ddf-949b-fe81c6a826fa",
   "metadata": {},
   "outputs": [],
   "source": [
    "7.mention function which can help us to find the version of python you are currently working in\n",
    "To get the Version of the python Interpreter, \n",
    "they are listed as follows: Using sys. version method. Using python_version() function"
   ]
  },
  {
   "cell_type": "code",
   "execution_count": null,
   "id": "04a0b15c-0698-4440-8899-2d85b1b625b0",
   "metadata": {},
   "outputs": [],
   "source": [
    "8.State a character used to define single line comment in python?\n",
    "Hash character(#) is used to comment the line in the Python program.\n",
    "    Comments does not have to be text to explain the code, \n",
    "    it can also be used to prevent Python from executing code.\n",
    "    The hash character should be placed before the line to be commented."
   ]
  },
  {
   "cell_type": "code",
   "execution_count": null,
   "id": "012d7cd3-f1f6-48d7-be86-c8cfbc805c5c",
   "metadata": {},
   "outputs": [],
   "source": [
    "9.Python supports to create a function in the runtime by using the constructor called?\n",
    "Python supports the creation of anonymous functions \n",
    "(i.e. functions that are not bound to a name) at runtime, using a construct called lambda.\n",
    "\n"
   ]
  },
  {
   "cell_type": "code",
   "execution_count": null,
   "id": "c4eb6581-a0a8-4d34-b59f-87534c2aeaad",
   "metadata": {},
   "outputs": [],
   "source": [
    "10.what does pip stands for python?\n",
    "preferred installer program"
   ]
  },
  {
   "cell_type": "code",
   "execution_count": null,
   "id": "c4b1569a-8045-428c-8870-a3e85367a0aa",
   "metadata": {},
   "outputs": [],
   "source": [
    "11.mention a few built in function in python?\n",
    "Python Built-in Functions\n",
    "print( ) function.\n",
    "type( ) function.\n",
    "input( ) function.\n",
    "abs( ) function.\n",
    "pow( ) function.\n",
    "dir( ) function.\n",
    "sorted( ) function.\n",
    "max( ) function."
   ]
  },
  {
   "cell_type": "code",
   "execution_count": null,
   "id": "18a233aa-9705-4213-be6f-7b6fe33b8882",
   "metadata": {},
   "outputs": [],
   "source": [
    "12.what is the maximum possible length of an identifier?\n",
    "Answer: An identifier can have a maximum length of 79 characters in Python.\n",
    "Python is one of the most popular programming languages. \n",
    "Guido van Rossum created it, and it was released in 1991."
   ]
  },
  {
   "cell_type": "code",
   "execution_count": null,
   "id": "3d83819f-981d-492c-b40a-72ced76e64b8",
   "metadata": {},
   "outputs": [],
   "source": [
    "13.what are the benefits of using python?\n",
    "Presence of third-party modules \n",
    "Extensive support libraries(NumPy for numerical calculations, Pandas for data analytics, etc.) \n",
    "Open source and large active community base \n",
    "Versatile, Easy to read, learn and write\n",
    "User-friendly data structures \n",
    "High-level language \n",
    "Dynamically typed language(No need to mention data type based on the value assigned, it takes data type) \n",
    "Object-Oriented and Procedural  Programming language\n",
    "Portable and Interactive\n",
    "Ideal for prototypes – provide more functionality with less coding\n",
    "Highly Efficient(Python’s clean object-oriented design provides enhanced process control, and the language is equipped with excellent text processing and integration capabilities, as well as its own unit testing framework, which makes it more efficient.)\n",
    "Internet of Things(IoT) Opportunities\n",
    "Interpreted Language\n",
    "Portable across Operating systems \n"
   ]
  },
  {
   "cell_type": "code",
   "execution_count": null,
   "id": "41f565e5-6d69-4361-be1a-dddcaab262a8",
   "metadata": {},
   "outputs": [],
   "source": [
    "14.how is memory managed in python?\n",
    "Memory management in Python involves a private heap containing all Python objects and data structures.\n",
    "The management of this private heap is ensured internally by the Python memory manager."
   ]
  },
  {
   "cell_type": "code",
   "execution_count": null,
   "id": "082bdeed-8717-4bd2-86ad-ab69befaff9f",
   "metadata": {},
   "outputs": [],
   "source": [
    "15.how to install python on windows and set path variable?\n",
    "Install python from this link https://www.python.org/downloads/\n",
    "After this, install it on your PC. Look for the location where PYTHON has been installed on your PC using tge following command on your command prompt: cmd python.\n",
    "Then go to advanced system settings and add new variable and name it as PYTHON_NAME and paste the copied path.\n",
    "Then look for the path variable, select it's value and select edit\n",
    "Add a semicolon towards the end of the value if it's not present and then type %PYTHON_HOME%\n"
   ]
  }
 ],
 "metadata": {
  "kernelspec": {
   "display_name": "Python 3 (ipykernel)",
   "language": "python",
   "name": "python3"
  },
  "language_info": {
   "codemirror_mode": {
    "name": "ipython",
    "version": 3
   },
   "file_extension": ".py",
   "mimetype": "text/x-python",
   "name": "python",
   "nbconvert_exporter": "python",
   "pygments_lexer": "ipython3",
   "version": "3.10.8"
  }
 },
 "nbformat": 4,
 "nbformat_minor": 5
}
